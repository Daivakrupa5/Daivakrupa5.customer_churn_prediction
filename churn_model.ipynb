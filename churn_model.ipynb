import pandas as pd
import numpy as np
import matplotlib.pyplot as plt
import seaborn as sns

from sklearn.model_selection import train_test_split
from sklearn.preprocessing import LabelEncoder
from xgboost import XGBClassifier
from sklearn.metrics import classification_report, confusion_matrix, accuracy_score

from lifelines import CoxPHFitter

# Load dataset
df = pd.read_csv("sample_churn_dataset.csv")

# Preprocessing
df = df.dropna()
label_encoders = {}
for column in df.select_dtypes(include=['object']).columns:
    if column != 'Churn':
        le = LabelEncoder()
        df[column] = le.fit_transform(df[column])
        label_encoders[column] = le

df['Churn'] = df['Churn'].map({'Yes': 1, 'No': 0})

# Feature-target split
X = df.drop(['Churn'], axis=1)
y = df['Churn']

# Train-test split
X_train, X_test, y_train, y_test = train_test_split(X, y, test_size=0.2, random_state=42)

# Train XGBoost model
model = XGBClassifier(use_label_encoder=False, eval_metric='logloss')
model.fit(X_train, y_train)

# Predictions and evaluation
y_pred = model.predict(X_test)
print("Accuracy:", accuracy_score(y_test, y_pred))
print("Classification Report:\n", classification_report(y_test, y_pred))
print("Confusion Matrix:\n", confusion_matrix(y_test, y_pred))

# Survival Analysis
df_survival = df.copy()
df_survival = df_survival.rename(columns={"tenure": "duration", "Churn": "event"})
cph = CoxPHFitter()
cph.fit(df_survival, duration_col='duration', event_col='event')
cph.print_summary()
